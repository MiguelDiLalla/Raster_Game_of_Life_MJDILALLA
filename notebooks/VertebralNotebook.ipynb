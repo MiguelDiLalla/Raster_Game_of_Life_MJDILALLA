{
 "cells": [
  {
   "cell_type": "markdown",
   "metadata": {},
   "source": [
    "```\n",
    "GameOfLife/\n",
    "│\n",
    "├── data/                 # Archivos de entrada y salida, como imágenes o datos procesados\n",
    "│   ├── input/            # Imágenes raster para cargar como tablero inicial\n",
    "│   ├── output/           # Tableros generados o resultados exportados\n",
    "│\n",
    "├── notebooks/            # Jupyter Notebooks\n",
    "│   ├── development.ipynb # Para experimentación y desarrollo inicial\n",
    "│   ├── analysis.ipynb    # Análisis de resultados o pruebas\n",
    "│\n",
    "├── src/                  # Código fuente del proyecto\n",
    "│   ├── __init__.py       # Hace que esta carpeta sea un paquete Python\n",
    "│   ├── game_of_life.py   # Implementación principal del juego de la vida\n",
    "│   ├── dithering.py      # Algoritmos de dithering\n",
    "│   ├── image_processing.py # Procesamiento de imágenes\n",
    "│   ├── utils.py          # Funciones auxiliares\n",
    "│\n",
    "├── tests/                # Scripts para pruebas unitarias\n",
    "│   ├── test_game_of_life.py\n",
    "│   ├── test_dithering.py\n",
    "│\n",
    "├── docs/                 # Documentación del proyecto\n",
    "│   ├── README.md         # Descripción general del proyecto\n",
    "│   ├── algorithms.md     # Detalles sobre los algoritmos usados\n",
    "│\n",
    "├── requirements.txt      # Dependencias del proyecto\n",
    "├── environment.yml       # Archivo para entornos (si usas Conda)\n",
    "├── setup.py              # (Opcional) Para convertirlo en un paquete instalable\n",
    "└── .gitignore            # Exclusiones para el control de versiones\n",
    "```\n"
   ]
  },
  {
   "cell_type": "markdown",
   "metadata": {},
   "source": [
    "# Archivos de entrada y salida, como imágenes o datos procesados"
   ]
  },
  {
   "cell_type": "markdown",
   "metadata": {},
   "source": [
    "## Imágenes raster para cargar como tablero inicial"
   ]
  },
  {
   "cell_type": "markdown",
   "metadata": {},
   "source": [
    "## Tableros generados o resultados exportados"
   ]
  },
  {
   "cell_type": "markdown",
   "metadata": {},
   "source": [
    "# Código fuente del proyecto"
   ]
  },
  {
   "cell_type": "markdown",
   "metadata": {},
   "source": [
    "## Implementación principal del juego de la vida"
   ]
  },
  {
   "cell_type": "code",
   "execution_count": null,
   "metadata": {},
   "outputs": [],
   "source": [
    "import numpy as np\n",
    "from datetime import datetime\n",
    "import platform\n",
    "import cpuinfo\n",
    "\n",
    "class Execution:\n",
    "    def __init__(self, dimensions, steps, initial_state, seed=None):\n",
    "        \"\"\"\n",
    "        Class to store and manage metadata and statistics for a Game of Life execution.\n",
    "\n",
    "        Args:\n",
    "            dimensions (tuple): Dimensions of the board (rows, columns).\n",
    "            steps (int): Maximum number of steps to execute.\n",
    "            initial_state (numpy.ndarray): Initial state of the board.\n",
    "            seed (int, optional): Seed used for reproducibility.\n",
    "        \"\"\"\n",
    "        self.dimensions = dimensions\n",
    "        self.steps = steps\n",
    "        self.initial_state = initial_state\n",
    "        self.seed = seed\n",
    "        self.timestamp = datetime.now()  # Timestamp for the start of the execution\n",
    "        self.step_count = 0\n",
    "        self.alive_cells_stats = []  # Percentage of alive cells per step\n",
    "        self.max_alive_cells = 0\n",
    "        self.min_alive_cells = np.prod(dimensions)\n",
    "        self.execution_time = 0\n",
    "        self.processor_info = cpuinfo.get_cpu_info()\n",
    "\n",
    "    def update_stats(self, board):\n",
    "        \"\"\"\n",
    "        Updates the statistics of the execution for each step.\n",
    "\n",
    "        Args:\n",
    "            board (numpy.ndarray): Current board state after a step.\n",
    "        \"\"\"\n",
    "        alive_cells = np.sum(board)\n",
    "        total_cells = self.dimensions[0] * self.dimensions[1]\n",
    "        alive_percentage = alive_cells / total_cells * 100\n",
    "        self.alive_cells_stats.append(alive_percentage)\n",
    "        self.max_alive_cells = max(self.max_alive_cells, alive_cells)\n",
    "        self.min_alive_cells = min(self.min_alive_cells, alive_cells)\n",
    "\n",
    "    def finalize(self, step_count, execution_time):\n",
    "        \"\"\"\n",
    "        Finalizes the execution by recording final statistics.\n",
    "\n",
    "        Args:\n",
    "            step_count (int): Total number of steps executed.\n",
    "            execution_time (float): Total execution time in seconds.\n",
    "        \"\"\"\n",
    "        self.step_count = step_count\n",
    "        self.execution_time = execution_time\n",
    "\n",
    "    def to_dict(self):\n",
    "        \"\"\"\n",
    "        Converts the metadata into a dictionary for export.\n",
    "\n",
    "        Returns:\n",
    "            dict: A dictionary containing metadata and statistics.\n",
    "        \"\"\"\n",
    "        return {\n",
    "            \"dimensions\": self.dimensions,\n",
    "            \"steps\": self.steps,\n",
    "            \"step_count\": self.step_count,\n",
    "            \"execution_time\": self.execution_time,\n",
    "            \"max_alive_cells\": self.max_alive_cells,\n",
    "            \"min_alive_cells\": self.min_alive_cells,\n",
    "            \"alive_cells_stats\": self.alive_cells_stats,\n",
    "            \"seed\": self.seed,\n",
    "            \"timestamp\": self.timestamp.isoformat(),\n",
    "            \"processor\": self.processor_info.get('brand_raw', 'Unknown Processor'),\n",
    "            \"architecture\": platform.architecture()[0],\n",
    "            \"system\": platform.system(),\n",
    "            \"processor_name\": platform.processor()\n",
    "        }\n",
    "\n",
    "\n",
    "class GameOfLife:\n",
    "    def __init__(self, dimensions=(10, 10), steps=0, initial_state=None, seed=None):\n",
    "        \"\"\"\n",
    "        Class implementing Conway's Game of Life simulation.\n",
    "\n",
    "        Args:\n",
    "            dimensions (tuple): Dimensions of the board (rows, columns).\n",
    "            steps (int): Number of steps to run the simulation.\n",
    "            initial_state (numpy.ndarray, optional): Custom initial board state.\n",
    "            seed (int, optional): Seed for reproducibility.\n",
    "        \"\"\"\n",
    "        self.rows, self.cols = dimensions\n",
    "        self.steps = steps\n",
    "        np.random.seed(seed)\n",
    "        self.seed = seed\n",
    "        self.board = (\n",
    "            initial_state\n",
    "            if initial_state is not None\n",
    "            else np.random.randint(2, size=(self.rows, self.cols))\n",
    "        )\n",
    "        self.execution = Execution(\n",
    "            dimensions=dimensions, steps=steps, initial_state=self.board.copy(), seed=seed\n",
    "        )\n",
    "\n",
    "    def count_neighbors(self, board):\n",
    "        \"\"\"\n",
    "        Counts the number of alive neighbors for each cell.\n",
    "\n",
    "        Args:\n",
    "            board (numpy.ndarray): Current state of the board.\n",
    "\n",
    "        Returns:\n",
    "            numpy.ndarray: Array with neighbor counts for each cell.\n",
    "        \"\"\"\n",
    "        neighbors = (\n",
    "            np.roll(np.roll(board, 1, axis=0), 1, axis=1) +\n",
    "            np.roll(np.roll(board, 1, axis=0), -1, axis=1) +\n",
    "            np.roll(np.roll(board, -1, axis=0), 1, axis=1) +\n",
    "            np.roll(np.roll(board, -1, axis=0), -1, axis=1) +\n",
    "            np.roll(board, 1, axis=0) +\n",
    "            np.roll(board, -1, axis=0) +\n",
    "            np.roll(board, 1, axis=1) +\n",
    "            np.roll(board, -1, axis=1)\n",
    "        )\n",
    "        return neighbors\n",
    "\n",
    "    def step(self):\n",
    "        \"\"\"\n",
    "        Executes a single step of the simulation, updating the board state.\n",
    "        \"\"\"\n",
    "        neighbors = self.count_neighbors(self.board)\n",
    "        self.board = (\n",
    "            (self.board & (neighbors == 2)) | (neighbors == 3)\n",
    "        ).astype(int)\n",
    "        self.execution.update_stats(self.board)\n",
    "\n",
    "    def run(self):\n",
    "        \"\"\"\n",
    "        Runs the simulation for the specified number of steps.\n",
    "        \"\"\"\n",
    "        import time\n",
    "        start_time = time.time()\n",
    "        for step in range(self.steps):\n",
    "            self.step()\n",
    "        end_time = time.time()\n",
    "        self.execution.finalize(step + 1, end_time - start_time)\n"
   ]
  },
  {
   "cell_type": "markdown",
   "metadata": {},
   "source": [
    "## Algoritmos de dithering"
   ]
  },
  {
   "cell_type": "markdown",
   "metadata": {},
   "source": [
    "## Procesamiento de imágenes"
   ]
  },
  {
   "cell_type": "markdown",
   "metadata": {},
   "source": [
    "## Funciones auxiliares"
   ]
  },
  {
   "cell_type": "markdown",
   "metadata": {},
   "source": [
    "# Scripts para pruebas unitarias"
   ]
  },
  {
   "cell_type": "markdown",
   "metadata": {},
   "source": [
    "# Documentación del proyecto"
   ]
  },
  {
   "cell_type": "markdown",
   "metadata": {},
   "source": [
    "## Descripción general del proyecto"
   ]
  },
  {
   "cell_type": "markdown",
   "metadata": {},
   "source": [
    "## Detalles sobre los algoritmos usados"
   ]
  },
  {
   "cell_type": "markdown",
   "metadata": {},
   "source": [
    "# Dependencias del proyecto"
   ]
  },
  {
   "cell_type": "markdown",
   "metadata": {},
   "source": [
    "# Archivo para entornos (si usas Conda)"
   ]
  },
  {
   "cell_type": "markdown",
   "metadata": {},
   "source": [
    "# (Opcional) Para convertirlo en un paquete instalable"
   ]
  },
  {
   "cell_type": "markdown",
   "metadata": {},
   "source": [
    "# Exclusiones para el control de versiones"
   ]
  }
 ],
 "metadata": {
  "kernelspec": {
   "display_name": "MiguelEnvHaB",
   "language": "python",
   "name": "python3"
  },
  "language_info": {
   "name": "python",
   "version": "3.12.7"
  }
 },
 "nbformat": 4,
 "nbformat_minor": 2
}
