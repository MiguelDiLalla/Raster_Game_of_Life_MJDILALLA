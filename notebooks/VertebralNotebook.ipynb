{
 "cells": [
  {
   "cell_type": "markdown",
   "metadata": {},
   "source": [
    "```\n",
    "GameOfLife/\n",
    "│\n",
    "├── data/                 # Archivos de entrada y salida, como imágenes o datos procesados\n",
    "│   ├── input/            # Imágenes raster para cargar como tablero inicial\n",
    "│   ├── output/           # Tableros generados o resultados exportados\n",
    "│\n",
    "├── notebooks/            # Jupyter Notebooks\n",
    "│   ├── development.ipynb # Para experimentación y desarrollo inicial\n",
    "│   ├── analysis.ipynb    # Análisis de resultados o pruebas\n",
    "│\n",
    "├── src/                  # Código fuente del proyecto\n",
    "│   ├── __init__.py       # Hace que esta carpeta sea un paquete Python\n",
    "│   ├── game_of_life.py   # Implementación principal del juego de la vida\n",
    "│   ├── dithering.py      # Algoritmos de dithering\n",
    "│   ├── image_processing.py # Procesamiento de imágenes\n",
    "│   ├── utils.py          # Funciones auxiliares\n",
    "│\n",
    "├── tests/                # Scripts para pruebas unitarias\n",
    "│   ├── test_game_of_life.py\n",
    "│   ├── test_dithering.py\n",
    "│\n",
    "├── docs/                 # Documentación del proyecto\n",
    "│   ├── README.md         # Descripción general del proyecto\n",
    "│   ├── algorithms.md     # Detalles sobre los algoritmos usados\n",
    "│\n",
    "├── requirements.txt      # Dependencias del proyecto\n",
    "├── environment.yml       # Archivo para entornos (si usas Conda)\n",
    "├── setup.py              # (Opcional) Para convertirlo en un paquete instalable\n",
    "└── .gitignore            # Exclusiones para el control de versiones\n",
    "```\n"
   ]
  },
  {
   "cell_type": "markdown",
   "metadata": {},
   "source": [
    "# Archivos de entrada y salida, como imágenes o datos procesados"
   ]
  },
  {
   "cell_type": "markdown",
   "metadata": {},
   "source": [
    "## Imágenes raster para cargar como tablero inicial"
   ]
  },
  {
   "cell_type": "markdown",
   "metadata": {},
   "source": [
    "## Tableros generados o resultados exportados"
   ]
  },
  {
   "cell_type": "markdown",
   "metadata": {},
   "source": [
    "# Código fuente del proyecto"
   ]
  },
  {
   "cell_type": "markdown",
   "metadata": {},
   "source": [
    "## Implementación principal del juego de la vida"
   ]
  },
  {
   "cell_type": "code",
   "execution_count": null,
   "metadata": {},
   "outputs": [],
   "source": [
    "import numpy as np\n",
    "import time\n",
    "\n",
    "class GameOfLife:\n",
    "    def __init__(self, initial_state=None, rows=10, cols=10, random_seed=None):\n",
    "        \"\"\"\n",
    "        Initialize the Game of Life.\n",
    "        \n",
    "        Parameters:\n",
    "        - initial_state (np.ndarray): Custom initial state array. Should be 2D.\n",
    "        - rows (int): Number of rows for a random board.\n",
    "        - cols (int): Number of columns for a random board.\n",
    "        - random_seed (int): Seed for random board generation.\n",
    "        \"\"\"\n",
    "        if initial_state is not None:\n",
    "            self.board = np.array(initial_state, dtype=int)\n",
    "        else:\n",
    "            if random_seed is not None:\n",
    "                np.random.seed(random_seed)\n",
    "            self.board = np.random.randint(2, size=(rows, cols), dtype=int)\n",
    "        \n",
    "        self.rows = self.board.shape[0]\n",
    "        self.cols = self.board.shape[1]\n",
    "        self.history = []  # To store the states for cycle detection\n",
    "        self.steps = 0     # Count the number of steps taken\n",
    "\n",
    "    def _count_neighbors(self, board):\n",
    "        \"\"\"\n",
    "        Count the neighbors of each cell efficiently using convolution.\n",
    "        \"\"\"\n",
    "        kernel = np.array([[1, 1, 1],\n",
    "                           [1, 0, 1],\n",
    "                           [1, 1, 1]])\n",
    "        return np.convolve(board.flatten(), kernel.flatten(), mode='same').reshape(board.shape)\n",
    "\n",
    "    def step(self):\n",
    "        \"\"\"\n",
    "        Advance the game by one step following the Game of Life rules.\n",
    "        \"\"\"\n",
    "        neighbors = (\n",
    "            np.roll(self.board, 1, axis=0) + np.roll(self.board, -1, axis=0) +\n",
    "            np.roll(self.board, 1, axis=1) + np.roll(self.board, -1, axis=1) +\n",
    "            np.roll(np.roll(self.board, 1, axis=0), 1, axis=1) +\n",
    "            np.roll(np.roll(self.board, 1, axis=0), -1, axis=1) +\n",
    "            np.roll(np.roll(self.board, -1, axis=0), 1, axis=1) +\n",
    "            np.roll(np.roll(self.board, -1, axis=0), -1, axis=1)\n",
    "        )\n",
    "\n",
    "        new_board = (neighbors == 3) | ((self.board == 1) & (neighbors == 2))\n",
    "        self.history.append(self.board.copy())  # Save the current state for loop detection\n",
    "        self.board = new_board.astype(int)\n",
    "        self.steps += 1\n",
    "\n",
    "    def run(self, steps):\n",
    "        \"\"\"\n",
    "        Run the game for a specific number of steps.\n",
    "        \n",
    "        Parameters:\n",
    "        - steps (int): Number of steps to simulate.\n",
    "        \"\"\"\n",
    "        start_time = time.time()\n",
    "        for _ in range(steps):\n",
    "            self.step()\n",
    "        end_time = time.time()\n",
    "        return end_time - start_time\n",
    "\n",
    "    def print_board(self):\n",
    "        \"\"\"\n",
    "        Print the current state of the board.\n",
    "        \"\"\"\n",
    "        for row in self.board:\n",
    "            print(\"\".join('#' if cell else '.' for cell in row))\n",
    "        print(\"\\n\")\n",
    "\n",
    "# Example usage\n",
    "game = GameOfLife(rows=5, cols=5, random_seed=42)\n",
    "game.print_board()\n",
    "\n",
    "execution_time = game.run(10)\n",
    "print(f\"Execution time for 10 steps: {execution_time:.4f} seconds\")\n",
    "game.print_board()\n"
   ]
  },
  {
   "cell_type": "markdown",
   "metadata": {},
   "source": [
    "## Algoritmos de dithering"
   ]
  },
  {
   "cell_type": "markdown",
   "metadata": {},
   "source": [
    "## Procesamiento de imágenes"
   ]
  },
  {
   "cell_type": "markdown",
   "metadata": {},
   "source": [
    "## Funciones auxiliares"
   ]
  },
  {
   "cell_type": "markdown",
   "metadata": {},
   "source": [
    "# Scripts para pruebas unitarias"
   ]
  },
  {
   "cell_type": "markdown",
   "metadata": {},
   "source": [
    "# Documentación del proyecto"
   ]
  },
  {
   "cell_type": "markdown",
   "metadata": {},
   "source": [
    "## Descripción general del proyecto"
   ]
  },
  {
   "cell_type": "markdown",
   "metadata": {},
   "source": [
    "## Detalles sobre los algoritmos usados"
   ]
  },
  {
   "cell_type": "markdown",
   "metadata": {},
   "source": [
    "# Dependencias del proyecto"
   ]
  },
  {
   "cell_type": "markdown",
   "metadata": {},
   "source": [
    "# Archivo para entornos (si usas Conda)"
   ]
  },
  {
   "cell_type": "markdown",
   "metadata": {},
   "source": [
    "# (Opcional) Para convertirlo en un paquete instalable"
   ]
  },
  {
   "cell_type": "markdown",
   "metadata": {},
   "source": [
    "# Exclusiones para el control de versiones"
   ]
  }
 ],
 "metadata": {
  "kernelspec": {
   "display_name": "MiguelEnvHaB",
   "language": "python",
   "name": "python3"
  },
  "language_info": {
   "name": "python",
   "version": "3.12.7"
  }
 },
 "nbformat": 4,
 "nbformat_minor": 2
}
