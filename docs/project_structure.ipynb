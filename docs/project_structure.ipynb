
```
GameOfLife/
│
├── data/                 # Archivos de entrada y salida, como imágenes o datos procesados
│   ├── input/            # Imágenes raster para cargar como tablero inicial
│   ├── output/           # Tableros generados o resultados exportados
│
├── notebooks/            # Jupyter Notebooks
│   ├── development.ipynb # Para experimentación y desarrollo inicial
│   ├── analysis.ipynb    # Análisis de resultados o pruebas
│
├── src/                  # Código fuente del proyecto
│   ├── __init__.py       # Hace que esta carpeta sea un paquete Python
│   ├── game_of_life.py   # Implementación principal del juego de la vida
│   ├── dithering.py      # Algoritmos de dithering
│   ├── image_processing.py # Procesamiento de imágenes
│   ├── utils.py          # Funciones auxiliares
│
├── tests/                # Scripts para pruebas unitarias
│   ├── test_game_of_life.py
│   ├── test_dithering.py
│
├── docs/                 # Documentación del proyecto
│   ├── README.md         # Descripción general del proyecto
│   ├── algorithms.md     # Detalles sobre los algoritmos usados
│
├── requirements.txt      # Dependencias del proyecto
├── environment.yml       # Archivo para entornos (si usas Conda)
├── setup.py              # (Opcional) Para convertirlo en un paquete instalable
└── .gitignore            # Exclusiones para el control de versiones
```
